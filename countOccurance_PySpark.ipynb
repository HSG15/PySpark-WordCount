{
 "cells": [
  {
   "cell_type": "markdown",
   "id": "b2a398d9-eab9-4b80-9833-35358f965bd0",
   "metadata": {},
   "source": [
    "Count Occurance of words using PySpark"
   ]
  },
  {
   "cell_type": "code",
   "execution_count": 5,
   "id": "f91ae6f4-2eac-432e-823e-4a7000a3f6b2",
   "metadata": {},
   "outputs": [],
   "source": [
    "from pyspark.sql import SparkSession"
   ]
  },
  {
   "cell_type": "markdown",
   "id": "16536a22-4603-4417-8f8a-5a3991bddbf7",
   "metadata": {},
   "source": [
    "Start a Spark Session (Select existing or Create a new)"
   ]
  },
  {
   "cell_type": "code",
   "execution_count": 7,
   "id": "485790d0-8101-45ce-bcd0-258c29ce4eeb",
   "metadata": {},
   "outputs": [],
   "source": [
    "spark = SparkSession.builder\\\n",
    "                    .appName('My Spark App')\\\n",
    "                    .master('local[*]')\\\n",
    "                    .getOrCreate()"
   ]
  },
  {
   "cell_type": "code",
   "execution_count": 8,
   "id": "2e3fa453-1ded-413a-86c0-472f69db9d4a",
   "metadata": {},
   "outputs": [
    {
     "data": {
      "text/html": [
       "\n",
       "            <div>\n",
       "                <p><b>SparkSession - in-memory</b></p>\n",
       "                \n",
       "        <div>\n",
       "            <p><b>SparkContext</b></p>\n",
       "\n",
       "            <p><a href=\"http://machine:4040\">Spark UI</a></p>\n",
       "\n",
       "            <dl>\n",
       "              <dt>Version</dt>\n",
       "                <dd><code>v3.5.1</code></dd>\n",
       "              <dt>Master</dt>\n",
       "                <dd><code>local[*]</code></dd>\n",
       "              <dt>AppName</dt>\n",
       "                <dd><code>WordCount</code></dd>\n",
       "            </dl>\n",
       "        </div>\n",
       "        \n",
       "            </div>\n",
       "        "
      ],
      "text/plain": [
       "<pyspark.sql.session.SparkSession at 0x7f0f6d552750>"
      ]
     },
     "execution_count": 8,
     "metadata": {},
     "output_type": "execute_result"
    }
   ],
   "source": [
    "spark"
   ]
  },
  {
   "cell_type": "code",
   "execution_count": 9,
   "id": "d9b9cd85-07dd-4add-8d4f-d7f029e2e902",
   "metadata": {},
   "outputs": [
    {
     "data": {
      "text/plain": [
       "pyspark.sql.session.SparkSession"
      ]
     },
     "execution_count": 9,
     "metadata": {},
     "output_type": "execute_result"
    }
   ],
   "source": [
    "type(spark)"
   ]
  },
  {
   "cell_type": "markdown",
   "id": "5ae6e312-ded3-4e55-83ad-0dd08793b81f",
   "metadata": {},
   "source": [
    "Start a Spark App\n",
    "\n",
    "sc gives access to Spark's RDD feature"
   ]
  },
  {
   "cell_type": "code",
   "execution_count": 10,
   "id": "c8699124-872b-47b7-9fbe-09de2f5952b3",
   "metadata": {},
   "outputs": [],
   "source": [
    "sc = spark.sparkContext"
   ]
  },
  {
   "cell_type": "markdown",
   "id": "4c5a2fe5-2fd8-415e-93a8-42b9cf766e9c",
   "metadata": {},
   "source": [
    "Below is the sample \"text data\" we want to process."
   ]
  },
  {
   "cell_type": "code",
   "execution_count": 11,
   "id": "6a2eca84-7202-466b-8478-aacb4bfb93ca",
   "metadata": {},
   "outputs": [],
   "source": [
    "data = [\n",
    "    'apple banana apple',\n",
    "    'banana orange banana',\n",
    "    'apple orange orange',\n",
    "    'banana apple orange'\n",
    "]"
   ]
  },
  {
   "cell_type": "markdown",
   "id": "9065c465-7ef2-4616-972c-ebb97d78c734",
   "metadata": {},
   "source": [
    "Convert the list into RDD, so that Spark can process in parallel"
   ]
  },
  {
   "cell_type": "code",
   "execution_count": 12,
   "id": "1d9b3543-f19a-44d0-b3ba-b8420d3b61c5",
   "metadata": {},
   "outputs": [],
   "source": [
    "rdd = sc.parallelize(data)"
   ]
  },
  {
   "cell_type": "code",
   "execution_count": 13,
   "id": "93df6111-2afb-40db-97bf-7f6c51e5709f",
   "metadata": {},
   "outputs": [
    {
     "data": {
      "text/plain": [
       "['apple banana apple',\n",
       " 'banana orange banana',\n",
       " 'apple orange orange',\n",
       " 'banana apple orange']"
      ]
     },
     "execution_count": 13,
     "metadata": {},
     "output_type": "execute_result"
    }
   ],
   "source": [
    "rdd.collect()"
   ]
  },
  {
   "cell_type": "markdown",
   "id": "c9791c70-9ebe-4774-b63b-513082a43aff",
   "metadata": {},
   "source": [
    " flatMap : Split lines into words"
   ]
  },
  {
   "cell_type": "code",
   "execution_count": 14,
   "id": "51051521-2e5e-40bc-9d00-fbcbadf59ae7",
   "metadata": {},
   "outputs": [],
   "source": [
    "flattedMap = rdd.flatMap(lambda line : line.split())"
   ]
  },
  {
   "cell_type": "code",
   "execution_count": 15,
   "id": "af4928a0-ca5b-4c98-a1b5-a5b57997c11b",
   "metadata": {},
   "outputs": [
    {
     "data": {
      "text/plain": [
       "['apple',\n",
       " 'banana',\n",
       " 'apple',\n",
       " 'banana',\n",
       " 'orange',\n",
       " 'banana',\n",
       " 'apple',\n",
       " 'orange',\n",
       " 'orange',\n",
       " 'banana',\n",
       " 'apple',\n",
       " 'orange']"
      ]
     },
     "execution_count": 15,
     "metadata": {},
     "output_type": "execute_result"
    }
   ],
   "source": [
    "flattedMap.collect()"
   ]
  },
  {
   "cell_type": "code",
   "execution_count": 16,
   "id": "b1a7d67e-14ae-4fd7-863e-a0b0d56e68d3",
   "metadata": {},
   "outputs": [],
   "source": [
    "mappedData = flattedMap.map(lambda word : (word, 1))"
   ]
  },
  {
   "cell_type": "code",
   "execution_count": 17,
   "id": "8f9f2fd6-6a72-4012-9536-8dcb2780fec3",
   "metadata": {},
   "outputs": [
    {
     "data": {
      "text/plain": [
       "[('apple', 1),\n",
       " ('banana', 1),\n",
       " ('apple', 1),\n",
       " ('banana', 1),\n",
       " ('orange', 1),\n",
       " ('banana', 1),\n",
       " ('apple', 1),\n",
       " ('orange', 1),\n",
       " ('orange', 1),\n",
       " ('banana', 1),\n",
       " ('apple', 1),\n",
       " ('orange', 1)]"
      ]
     },
     "execution_count": 17,
     "metadata": {},
     "output_type": "execute_result"
    }
   ],
   "source": [
    "mappedData.collect()"
   ]
  },
  {
   "cell_type": "code",
   "execution_count": 18,
   "id": "b60628f3-be9d-48df-b7b3-841e52491135",
   "metadata": {},
   "outputs": [],
   "source": [
    "reducedData = mappedData.reduceByKey(lambda a, b : a+b)"
   ]
  },
  {
   "cell_type": "code",
   "execution_count": 19,
   "id": "a1aa99a9-d164-4ab6-8d0f-05455bb7e472",
   "metadata": {},
   "outputs": [
    {
     "data": {
      "text/plain": [
       "[('apple', 4), ('banana', 4), ('orange', 4)]"
      ]
     },
     "execution_count": 19,
     "metadata": {},
     "output_type": "execute_result"
    }
   ],
   "source": [
    "reducedData.collect()"
   ]
  }
 ],
 "metadata": {
  "kernelspec": {
   "display_name": "Python 3 (ipykernel)",
   "language": "python",
   "name": "python3"
  },
  "language_info": {
   "codemirror_mode": {
    "name": "ipython",
    "version": 3
   },
   "file_extension": ".py",
   "mimetype": "text/x-python",
   "name": "python",
   "nbconvert_exporter": "python",
   "pygments_lexer": "ipython3",
   "version": "3.11.9"
  }
 },
 "nbformat": 4,
 "nbformat_minor": 5
}
